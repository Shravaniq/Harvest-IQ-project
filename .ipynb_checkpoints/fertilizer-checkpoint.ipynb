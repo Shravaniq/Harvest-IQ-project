{
 "cells": [
  {
   "cell_type": "code",
   "execution_count": 2,
   "id": "23572407",
   "metadata": {},
   "outputs": [
    {
     "ename": "IndexError",
     "evalue": "list index out of range",
     "output_type": "error",
     "traceback": [
      "\u001b[1;31m----------\u001b[0m",
      "\u001b[1;31mIndexError\u001b[0mTraceback (most recent call last)",
      "Cell \u001b[1;32mIn[2], line 26\u001b[0m\n\u001b[0;32m     24\u001b[0m jsonn \u001b[38;5;241m=\u001b[39m sys\u001b[38;5;241m.\u001b[39margv[\u001b[38;5;241m1\u001b[39m]\n\u001b[0;32m     25\u001b[0m jsonp \u001b[38;5;241m=\u001b[39m sys\u001b[38;5;241m.\u001b[39margv[\u001b[38;5;241m2\u001b[39m]\n\u001b[1;32m---> 26\u001b[0m jsonk \u001b[38;5;241m=\u001b[39m \u001b[43msys\u001b[49m\u001b[38;5;241;43m.\u001b[39;49m\u001b[43margv\u001b[49m\u001b[43m[\u001b[49m\u001b[38;5;241;43m3\u001b[39;49m\u001b[43m]\u001b[49m\n\u001b[0;32m     27\u001b[0m jsont \u001b[38;5;241m=\u001b[39m sys\u001b[38;5;241m.\u001b[39margv[\u001b[38;5;241m4\u001b[39m]\n\u001b[0;32m     28\u001b[0m jsonh \u001b[38;5;241m=\u001b[39m sys\u001b[38;5;241m.\u001b[39margv[\u001b[38;5;241m5\u001b[39m]\n",
      "\u001b[1;31mIndexError\u001b[0m: list index out of range"
     ]
    }
   ],
   "source": [
    "import pandas as pd\n",
    "import sys\n",
    "from sklearn.preprocessing import LabelEncoder\n",
    "from sklearn.tree import DecisionTreeClassifier\n",
    "\n"
   ]
  },
  {
   "cell_type": "code",
   "execution_count": null,
   "id": "429f7545",
   "metadata": {},
   "outputs": [],
   "source": [
    "# Load the dataset\n",
    "data = pd.read_csv(\"C:\\\\Users\\\\shrav\\\\Documents\\\\pbl-2\\\\demo_newzip\\\\fertilizer_recommendation.csv\")\n",
    "\n"
   ]
  },
  {
   "cell_type": "code",
   "execution_count": null,
   "id": "0c01e738",
   "metadata": {},
   "outputs": [],
   "source": [
    "# Label encoding for categorical features\n",
    "le_soil = LabelEncoder()\n",
    "data['Soil Type'] = le_soil.fit_transform(data['Soil Type'])\n",
    "le_crop = LabelEncoder()\n",
    "data['Crop Type'] = le_crop.fit_transform(data['Crop Type'])\n",
    "\n"
   ]
  },
  {
   "cell_type": "code",
   "execution_count": null,
   "id": "ccc44808",
   "metadata": {},
   "outputs": [],
   "source": [
    "# Splitting the data into input and output variables\n",
    "X = data.iloc[:, :8]\n",
    "y = data.iloc[:, -1]\n",
    "\n"
   ]
  },
  {
   "cell_type": "code",
   "execution_count": null,
   "id": "fafb3d28",
   "metadata": {},
   "outputs": [],
   "source": [
    "# Training the Decision Tree Classifier model\n",
    "dtc = DecisionTreeClassifier(random_state=0)\n",
    "dtc.fit(X, y)\n",
    "\n"
   ]
  },
  {
   "cell_type": "code",
   "execution_count": null,
   "id": "efa829a7",
   "metadata": {},
   "outputs": [],
   "source": [
    "# Get the input parameters as command line arguments\n",
    "jsonn = sys.argv[1]\n",
    "jsonp = sys.argv[2]\n",
    "jsonk = sys.argv[3]\n",
    "jsont = sys.argv[4]\n",
    "jsonh = sys.argv[5]\n",
    "jsonsm = sys.argv[6]\n",
    "jsonsoil = sys.argv[7]\n",
    "jsoncrop = sys.argv[8]\n",
    "\n",
    "soil_enc = le_soil.transform([jsonsoil])[0]\n",
    "crop_enc = le_crop.transform([jsoncrop])[0]\n",
    "\n"
   ]
  },
  {
   "cell_type": "code",
   "execution_count": null,
   "id": "b8f6c749",
   "metadata": {},
   "outputs": [],
   "source": [
    "# Get the user inputs and store them in a numpy array - Urea\n",
    "#user_input = [[26,52,38,'Sandy','Maize',37,0,0]]\n",
    "\n",
    "user_input = [[jsont,jsonh,jsonsm,soil_enc,crop_enc,jsonn,jsonk,jsonp]]\n",
    "\n",
    "fertilizer_name = dtc.predict(user_input)\n",
    "\n"
   ]
  },
  {
   "cell_type": "code",
   "execution_count": null,
   "id": "339b3376",
   "metadata": {},
   "outputs": [],
   "source": [
    "# Return the prediction as a string\n",
    "print(str(fertilizer_name[0]))"
   ]
  }
 ],
 "metadata": {
  "kernelspec": {
   "display_name": "Python 3 (ipykernel)",
   "language": "python",
   "name": "python3"
  },
  "language_info": {
   "codemirror_mode": {
    "name": "ipython",
    "version": 3
   },
   "file_extension": ".py",
   "mimetype": "text/x-python",
   "name": "python",
   "nbconvert_exporter": "python",
   "pygments_lexer": "ipython3",
   "version": "3.11.2"
  }
 },
 "nbformat": 4,
 "nbformat_minor": 5
}
